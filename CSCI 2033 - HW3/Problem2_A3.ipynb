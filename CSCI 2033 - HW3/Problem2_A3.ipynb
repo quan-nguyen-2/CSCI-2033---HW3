{
  "nbformat": 4,
  "nbformat_minor": 0,
  "metadata": {
    "colab": {
      "provenance": []
    },
    "kernelspec": {
      "name": "python3",
      "display_name": "Python 3"
    },
    "language_info": {
      "name": "python"
    }
  },
  "cells": [
    {
      "cell_type": "markdown",
      "source": [
        "# Problem 2 PageRank and Eigenvectors"
      ],
      "metadata": {
        "id": "qOXyOhOM8PJH"
      }
    },
    {
      "cell_type": "code",
      "execution_count": 3,
      "metadata": {
        "id": "wOwgYOvA7GMO"
      },
      "outputs": [],
      "source": [
        "import numpy as np\n",
        "import matplotlib.pyplot as plt\n"
      ]
    },
    {
      "cell_type": "markdown",
      "source": [
        "## Problem 2.1 Representing undirected graphs by matrices"
      ],
      "metadata": {
        "id": "w1Y4yYkh8WsA"
      }
    },
    {
      "cell_type": "markdown",
      "source": [
        "![Graph.drawio.png](data:image/png;base64,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)"
      ],
      "metadata": {
        "id": "VgHMpMCeRhvO"
      }
    },
    {
      "cell_type": "code",
      "source": [
        "# Please construct the unnormalized  matrix based on the figure above\n",
        "##################Your codes start here####################\n",
        "G = np.array ([[0, 1, 1, 0, 1, 1],\n",
        "              [1, 0, 1, 1, 1, 1],\n",
        "              [1, 1, 0, 1, 0, 0],\n",
        "              [0, 1, 1, 0, 1, 0],\n",
        "              [1, 1, 0, 1, 0, 0],\n",
        "              [1, 1, 0, 0, 0, 0]])\n",
        "############################################################\n",
        "print(\"Matrix generated based on the network above is\")\n",
        "print(G)"
      ],
      "metadata": {
        "id": "Ik_DzuR98f_c"
      },
      "execution_count": null,
      "outputs": []
    },
    {
      "cell_type": "code",
      "source": [
        "# Please finish the normalization function here\n",
        "def normalize_graph(G):\n",
        "  ########################Your codes start here#################\n",
        "  col_sum = G.sum(axis=0)\n",
        "  col_sum[col_sum == 0] = 1\n",
        "  G_N = G / col_sum\n",
        "  ##############################################################\n",
        "  return G_N"
      ],
      "metadata": {
        "id": "ek1XimEl0Uuc"
      },
      "execution_count": 5,
      "outputs": []
    },
    {
      "cell_type": "code",
      "source": [
        "G_N = normalize_graph(G)\n",
        "print(\"The matrix after normalization is:\")\n",
        "print(G_N)"
      ],
      "metadata": {
        "id": "xALUYkNS0WDO",
        "outputId": "f8c82923-f8a8-4a88-86ff-eff4fd571950",
        "colab": {
          "base_uri": "https://localhost:8080/"
        }
      },
      "execution_count": 6,
      "outputs": [
        {
          "output_type": "stream",
          "name": "stdout",
          "text": [
            "The matrix after normalization is:\n",
            "[[0.         0.2        0.33333333 0.         0.33333333 0.5       ]\n",
            " [0.25       0.         0.33333333 0.33333333 0.33333333 0.5       ]\n",
            " [0.25       0.2        0.         0.33333333 0.         0.        ]\n",
            " [0.         0.2        0.33333333 0.         0.33333333 0.        ]\n",
            " [0.25       0.2        0.         0.33333333 0.         0.        ]\n",
            " [0.25       0.2        0.         0.         0.         0.        ]]\n"
          ]
        }
      ]
    },
    {
      "cell_type": "markdown",
      "source": [
        "## Problem 2.2 Finding the importance vector"
      ],
      "metadata": {
        "id": "w0zUbyg-8eqx"
      }
    },
    {
      "cell_type": "markdown",
      "source": [
        "### Please use the matrix G_N from Problem 2.1"
      ],
      "metadata": {
        "id": "6mn0IHFM11O3"
      }
    },
    {
      "cell_type": "code",
      "source": [
        "# implement algorithm 1 here:\n",
        "def find_importance_vector(G_N):\n",
        "  ####################Your codes start here ##########################\n",
        "  i = 1000\n",
        "  tol = 1e-6\n",
        "  n = G_N.shape[0]\n",
        "  v = np.ones(n) / n\n",
        "  vold = v.copy()\n",
        "\n",
        "  j = 0\n",
        "  while j < i:\n",
        "    v = np.dot(G_N, vold)\n",
        "    v /= np.sum(v)\n",
        "\n",
        "    if np.linalg.norm(vold - v) / np.linalg.norm(vold) <= tol:\n",
        "      break\n",
        "\n",
        "    vold = v.copy()\n",
        "    j += 1\n",
        "\n",
        "  ##################################################################\n",
        "  return v"
      ],
      "metadata": {
        "id": "NIR9Vi3L1q3j"
      },
      "execution_count": 9,
      "outputs": []
    },
    {
      "cell_type": "code",
      "source": [
        "v = find_importance_vector(G_N)  # v is the resulting vector from the loop.\n",
        "print(\"The important vector found is:\\{}\".format(v))"
      ],
      "metadata": {
        "id": "436SV3vt8nZt",
        "outputId": "8e725a45-a5ae-4c0a-b92a-0bcfe42813e6",
        "colab": {
          "base_uri": "https://localhost:8080/"
        }
      },
      "execution_count": 8,
      "outputs": [
        {
          "output_type": "stream",
          "name": "stdout",
          "text": [
            "The important vector found is:\\[0.2000001  0.25000004 0.14999992 0.15000006 0.14999992 0.09999995]\n"
          ]
        }
      ]
    },
    {
      "cell_type": "code",
      "source": [
        "# v should be close to\n",
        "# [0.2 ,0.25, 0.15, 0.15, 0.15, 0.1 ]^⊺ (Updated here)\n",
        "# there could exist some small difference between your result and this vector\n",
        "\n",
        "# Here you need to check the relative difference\n",
        "# between v you generated and v_hat\n",
        "v_hat = np.array(\n",
        "    [[0.2 ,0.25, 0.15, 0.15, 0.15, 0.1 ]] #Updated here\n",
        "    ).T\n",
        "print(\"Given v_hat is \\n{}\".format(v_hat))\n",
        "####################Your codes start here ##########################\n",
        "relative_dist = np.linalg.norm(v - v_hat) / np.linalg.norm(v_hat)\n",
        "\n",
        "\n",
        "##################################################################\n",
        "print(\"The relative dist between v and v_hat is {}\".format(relative_dist))"
      ],
      "metadata": {
        "id": "mGZZmyLoght7",
        "outputId": "bafc8fc3-29dd-4bb8-8606-7a9cff034476",
        "colab": {
          "base_uri": "https://localhost:8080/"
        }
      },
      "execution_count": 10,
      "outputs": [
        {
          "output_type": "stream",
          "name": "stdout",
          "text": [
            "Given v_hat is \n",
            "[[0.2 ]\n",
            " [0.25]\n",
            " [0.15]\n",
            " [0.15]\n",
            " [0.15]\n",
            " [0.1 ]]\n",
            "The relative dist between v and v_hat is 0.9428094508783148\n"
          ]
        }
      ]
    },
    {
      "cell_type": "markdown",
      "source": [],
      "metadata": {
        "id": "tZEb-3MdepKI"
      }
    },
    {
      "cell_type": "markdown",
      "source": [
        "## 2.3 PageRank vector"
      ],
      "metadata": {
        "id": "07VlaEIuWr81"
      }
    },
    {
      "cell_type": "code",
      "source": [
        "# A new unnormalized matrix G is given:\n",
        "np.random.seed(2033)\n",
        "G_half = np.random.randint(0,2,(100, 100))\n",
        "G = (G_half+G_half.T)\n",
        "G = (np.sign(G))\n",
        "G = G.astype(np.float32)\n",
        "for i in range(100):\n",
        "  G[i, i] = 0.\n",
        "print(np.linalg.norm(G-G.T))\n",
        "print(G)"
      ],
      "metadata": {
        "id": "8OHXZ6DgWwC4"
      },
      "execution_count": null,
      "outputs": []
    },
    {
      "cell_type": "code",
      "source": [
        "# Step (a)\n",
        "# Compute the normalized matrix G_N based on G in Porblem 2.3: 100-by-100 matrix\n",
        "#######################Your codes start here ##########################\n",
        "G_N = normalize_graph(G)\n",
        "#########################################################################"
      ],
      "metadata": {
        "id": "kf8qZCqw2NfM"
      },
      "execution_count": 11,
      "outputs": []
    },
    {
      "cell_type": "code",
      "source": [
        "# Step (b)\n",
        "# Use the built-in function np.linalg.eig to find the eigenvector corresponding\n",
        "# to the eigenvalue = 1\n",
        "#######################Your codes start here ##########################\n",
        "w, V = np.linalg.eig(G_N)\n",
        "i = np.argmax(np.abs(w))\n",
        "eigen_vector = V[:, i]\n",
        "#########################################################################\n",
        "print(\"Eigenvector found (while eigenvalue = 1) is: \")\n",
        "print(eigen_vector)"
      ],
      "metadata": {
        "id": "iwAA-tKD2QAB",
        "outputId": "20eecb7a-0754-4636-8311-49f65f183393",
        "colab": {
          "base_uri": "https://localhost:8080/"
        }
      },
      "execution_count": 13,
      "outputs": [
        {
          "output_type": "stream",
          "name": "stdout",
          "text": [
            "Eigenvector found (while eigenvalue = 1) is: \n",
            "[0.47140452 0.58925565 0.35355339 0.35355339 0.35355339 0.23570226]\n"
          ]
        }
      ]
    },
    {
      "cell_type": "code",
      "source": [
        "# Step (c)\n",
        "# Fix the eigenvector correponding to the eigenvalue = 1 from V\n",
        "# according to the code hints in 2.3 (c) on Page 5 of pdf file\n",
        "#######################Your codes start here ##########################\n",
        "v_abs = np.abs(v)\n",
        "v_PageRank = v_abs / np.sum(v_abs)\n",
        "#########################################################################\n",
        "print(\"Page Rank Vector is:\")\n",
        "print(v_PageRank)"
      ],
      "metadata": {
        "id": "Fth349Fjb1t2",
        "outputId": "9ad39ed6-3bf1-4f10-80dc-8f20a88f9f72",
        "colab": {
          "base_uri": "https://localhost:8080/"
        }
      },
      "execution_count": 14,
      "outputs": [
        {
          "output_type": "stream",
          "name": "stdout",
          "text": [
            "Page Rank Vector is:\n",
            "[0.2000001  0.25000004 0.14999992 0.15000006 0.14999992 0.09999995]\n"
          ]
        }
      ]
    },
    {
      "cell_type": "code",
      "source": [
        "# Use your find_importance_vector() to generate imp_vec\n",
        "# check relative distance between imp_vec and v_PageRank\n",
        "# should be close to 0 (non-negative values less than 1e-5 are acceptable)\n",
        "#######################Your codes start here ##########################\n",
        "imp_vec = find_importance_vector(v_PageRank)\n",
        "relative_dist = np.linalg.norm(imp_vec - v_PageRank) / np.linalg.norm(v_PageRank)\n",
        "#########################################################################\n",
        "print(\"Relative Dist between imp_vec and v_PageRank is {}\".format(relative_dist))\n",
        "print(\"importance vector is \\n{}\".format(imp_vec))"
      ],
      "metadata": {
        "id": "rKPap9mMiPl2",
        "outputId": "548b9fa7-b70c-4076-bdba-b57e2583f7c6",
        "colab": {
          "base_uri": "https://localhost:8080/"
        }
      },
      "execution_count": 15,
      "outputs": [
        {
          "output_type": "stream",
          "name": "stdout",
          "text": [
            "Relative Dist between imp_vec and v_PageRank is 1.8790612311832724e-16\n",
            "importance vector is \n",
            "[0.2000001  0.25000004 0.14999992 0.15000006 0.14999992 0.09999995]\n"
          ]
        }
      ]
    },
    {
      "cell_type": "code",
      "source": [
        "# Find the indices of the 5 most important webpages from v_PageRank\n",
        "# i.e., find the largest 5 elements from v_PageRank\n",
        "#######################Your codes start here ##########################\n",
        "ind_top_5 = np.argsort(v_PageRank)[::-1][:5]\n",
        "#########################################################################\n",
        "print(\"Top 5 indices are: \")\n",
        "print(ind_top_5)"
      ],
      "metadata": {
        "id": "lBRbDN1d2Vhy",
        "outputId": "09430d2b-a039-421e-91c7-f334b7bbd8be",
        "colab": {
          "base_uri": "https://localhost:8080/"
        }
      },
      "execution_count": 16,
      "outputs": [
        {
          "output_type": "stream",
          "name": "stdout",
          "text": [
            "Top 5 indices are: \n",
            "[1 0 3 4 2]\n"
          ]
        }
      ]
    }
  ]
}