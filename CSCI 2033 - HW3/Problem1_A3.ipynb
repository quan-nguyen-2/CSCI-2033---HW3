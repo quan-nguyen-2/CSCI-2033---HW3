{
  "nbformat": 4,
  "nbformat_minor": 0,
  "metadata": {
    "colab": {
      "provenance": []
    },
    "kernelspec": {
      "name": "python3",
      "display_name": "Python 3"
    },
    "language_info": {
      "name": "python"
    }
  },
  "cells": [
    {
      "cell_type": "markdown",
      "source": [
        "# Problem 1. Linear transformation and affine transformation."
      ],
      "metadata": {
        "id": "Bbz2SPkXTpbo"
      }
    },
    {
      "cell_type": "markdown",
      "source": [
        "## Note: Each column of pos_M is corresponding to a data point"
      ],
      "metadata": {
        "id": "f-tEAM_-wbcP"
      }
    },
    {
      "cell_type": "code",
      "execution_count": 1,
      "metadata": {
        "id": "s9r25xkgot53",
        "colab": {
          "base_uri": "https://localhost:8080/",
          "height": 201
        },
        "outputId": "dd9186b6-3401-45de-fa19-44300bb89869"
      },
      "outputs": [
        {
          "output_type": "stream",
          "name": "stdout",
          "text": [
            "Shape of pos_M is (2, 32)\n"
          ]
        },
        {
          "output_type": "display_data",
          "data": {
            "text/plain": [
              "<Figure size 640x480 with 1 Axes>"
            ],
            "image/png": "[encoded data removed]"
          },
          "metadata": {}
        }
      ],
      "source": [
        "import numpy as np\n",
        "import matplotlib.pyplot as plt\n",
        "\n",
        "pos_M = np.array([[-10, -8, -9, -8, -7, -6, -5, -4, -5, -3, -4, -3, -2, -1, 0, -1, 1,0, 1, 2, 3, 4, 3, 5, 4, 5, 6, 7, 8, 9, 8, 10],\n",
        "                  [-1, -1, -1, 0, 1, 2, 3, 4, 4, 4, 4, 3, 2, 1, 0, 0, 0, 0, 1, 2, 3, 4, 4, 4, 4, 3, 2, 1, 0, -1, -1, -1]])\n",
        "# each column corresponding to a data point\n",
        "\n",
        "print(\"Shape of pos_M is {}\".format(pos_M.shape))\n",
        "\n",
        "def plot_shape(P):\n",
        "  # P is a 2-by-N matrix for\n",
        "  plt.figure()\n",
        "  plt.plot(P[0], P[1])\n",
        "  ax = plt.gca()\n",
        "  #ax.axes.xaxis.set_visible(False)\n",
        "  #ax.axes.yaxis.set_visible(False)\n",
        "  ax.set_aspect('equal')\n",
        "  plt.show()\n",
        "\n",
        "\n",
        "plot_shape(pos_M)\n",
        "\n",
        "def plot_resulting_shape(pos_M_result, pos_M):\n",
        "  plt.figure()\n",
        "  plt.plot(pos_M[0], pos_M[1])\n",
        "  plt.plot(pos_M_result[0], pos_M_result[1])\n",
        "  ax = plt.gca()\n",
        "  ax.axes.xaxis.set_visible(False)\n",
        "  ax.axes.yaxis.set_visible(False)\n",
        "  ax.set_aspect('equal') # Updated here\n",
        "  plt.show()\n",
        "\n",
        "\n"
      ]
    },
    {
      "cell_type": "markdown",
      "source": [
        "##Problem 1.1 Single transformation\n",
        "\n"
      ],
      "metadata": {
        "id": "uj6epNoXT1Zm"
      }
    },
    {
      "cell_type": "markdown",
      "source": [
        "For each prescribed transformation below, please\n",
        "\n",
        "\n",
        "1.  construct the transformation matrix;\n",
        "2.  apply them on pos_M;\n",
        "3.  call the plot function to plot the resulting shapes."
      ],
      "metadata": {
        "id": "ZQOkXAOxt0o8"
      }
    },
    {
      "cell_type": "code",
      "source": [
        "# Scaling\n",
        "# Please scale the shape so that it has\n",
        "# twice the current width in the x direction\n",
        "# half the current height in the y direction\n",
        "print(\"Scaling result:\")\n",
        "################Your codes start here#################\n",
        "scaling_matrix = np.array([[2, 0],\n",
        "                            [0, 0.5]])\n",
        "\n",
        "pos_M_scale = np.dot(scaling_matrix, pos_M)\n",
        "\n",
        "plot_resulting_shape(pos_M_scale, pos_M)\n",
        "#######################################################"
      ],
      "metadata": {
        "colab": {
          "base_uri": "https://localhost:8080/",
          "height": 116
        },
        "id": "iWoKQLwctnSz",
        "outputId": "8cbb40a9-d590-48c5-a850-96884051f0fa"
      },
      "execution_count": 4,
      "outputs": [
        {
          "output_type": "stream",
          "name": "stdout",
          "text": [
            "Scaling result:\n"
          ]
        },
        {
          "output_type": "display_data",
          "data": {
            "text/plain": [
              "<Figure size 640x480 with 1 Axes>"
            ],
            "image/png": "[encoded data removed]"
          },
          "metadata": {}
        }
      ]
    },
    {
      "cell_type": "code",
      "source": [
        "# Rotation\n",
        "# Please rotate the shape counterclockwise by 60 degrees\n",
        "print(\"Rotation result:\")\n",
        "################Your codes start here#################\n",
        "angle_degrees = 60\n",
        "angle_radians = np.radians(angle_degrees)\n",
        "\n",
        "rotation_matrix = np.array([[np.cos(angle_radians), -np.sin(angle_radians)],\n",
        "                            [np.sin(angle_radians), np.cos(angle_radians)]])\n",
        "\n",
        "pos_M_rotate = np.dot(rotation_matrix, pos_M)\n",
        "\n",
        "plot_resulting_shape(pos_M_rotate, pos_M)\n",
        "#######################################################"
      ],
      "metadata": {
        "colab": {
          "base_uri": "https://localhost:8080/",
          "height": 423
        },
        "id": "NL5xPWHitpdv",
        "outputId": "63e45e51-da64-402c-d7ac-378f332c9ded"
      },
      "execution_count": 5,
      "outputs": [
        {
          "output_type": "stream",
          "name": "stdout",
          "text": [
            "Rotation result:\n"
          ]
        },
        {
          "output_type": "display_data",
          "data": {
            "text/plain": [
              "<Figure size 640x480 with 1 Axes>"
            ],
            "image/png": "[encoded data removed]"
          },
          "metadata": {}
        }
      ]
    },
    {
      "cell_type": "code",
      "source": [
        "# Translation\n",
        "# Please translate the shape along x axis with length 10\n",
        "# and along y axis with length 20\n",
        "print(\"Translation result:\")\n",
        "################Your codes start here#################\n",
        "# Translation amounts\n",
        "tx = 10\n",
        "ty = 20\n",
        "\n",
        "translation_matrix = np.array([[1, 0, tx],\n",
        "                                [0, 1, ty]])\n",
        "\n",
        "pos_M_homogeneous = np.vstack([pos_M, np.ones((1, pos_M.shape[1]))])\n",
        "\n",
        "pos_M_translate_homogeneous = np.dot(translation_matrix, pos_M_homogeneous)\n",
        "\n",
        "pos_M_translate = pos_M_translate_homogeneous[:2, :]\n",
        "\n",
        "plot_resulting_shape(pos_M_translate, pos_M)\n",
        "#######################################################"
      ],
      "metadata": {
        "colab": {
          "base_uri": "https://localhost:8080/",
          "height": 423
        },
        "id": "puPfqFL6trQE",
        "outputId": "85e430ef-d9d8-4b9f-f94e-c2e98d4f643f"
      },
      "execution_count": 6,
      "outputs": [
        {
          "output_type": "stream",
          "name": "stdout",
          "text": [
            "Translation result:\n"
          ]
        },
        {
          "output_type": "display_data",
          "data": {
            "text/plain": [
              "<Figure size 640x480 with 1 Axes>"
            ],
            "image/png": "[encoded data removed]"
          },
          "metadata": {}
        }
      ]
    },
    {
      "cell_type": "code",
      "source": [
        "# Shearing 1\n",
        "# Please shear the shape along the x-direction with a shearing factor 3\n",
        "# and keep the shape along the y-direction\n",
        "print(\"Shearing 1 result:\")\n",
        "################Your codes start here#################\n",
        "shear_factor = 3\n",
        "\n",
        "shearing_matrix = np.array([[1, shear_factor],\n",
        "                            [0, 1]])\n",
        "\n",
        "pos_M_shear_h = np.dot(shearing_matrix, pos_M)\n",
        "\n",
        "plot_resulting_shape(pos_M_shear_h, pos_M)\n",
        "#######################################################"
      ],
      "metadata": {
        "colab": {
          "base_uri": "https://localhost:8080/",
          "height": 136
        },
        "id": "U8vj66Chttfw",
        "outputId": "b2b9535f-a9f7-4406-f907-e3967ae6356e"
      },
      "execution_count": 10,
      "outputs": [
        {
          "output_type": "stream",
          "name": "stdout",
          "text": [
            "Shearing 1 result:\n"
          ]
        },
        {
          "output_type": "display_data",
          "data": {
            "text/plain": [
              "<Figure size 640x480 with 1 Axes>"
            ],
            "image/png": "[encoded data removed]"
          },
          "metadata": {}
        }
      ]
    },
    {
      "cell_type": "code",
      "source": [
        "# Shearing 2\n",
        "# Please shear the shape along the y-direction with a shearing factor 6\n",
        "# and keep the shape along the x-direction\n",
        "print(\"Shearing 2 result:\")\n",
        "################Your codes start here#################\n",
        "shear_factor_y = 6\n",
        "\n",
        "shearing_matrix_y = np.array([[1, 0],\n",
        "                               [shear_factor_y, 1]])\n",
        "\n",
        "pos_M_shear_v = np.dot(shearing_matrix_y, pos_M)\n",
        "\n",
        "plot_resulting_shape(pos_M_shear_v, pos_M)\n",
        "#######################################################"
      ],
      "metadata": {
        "colab": {
          "base_uri": "https://localhost:8080/",
          "height": 423
        },
        "id": "zumM3dNQtx5r",
        "outputId": "94bbcaa0-2b89-4846-c3e1-17b6416cfbc3"
      },
      "execution_count": 11,
      "outputs": [
        {
          "output_type": "stream",
          "name": "stdout",
          "text": [
            "Shearing 2 result:\n"
          ]
        },
        {
          "output_type": "display_data",
          "data": {
            "text/plain": [
              "<Figure size 640x480 with 1 Axes>"
            ],
            "image/png": "[encoded data removed]"
          },
          "metadata": {}
        }
      ]
    },
    {
      "cell_type": "markdown",
      "source": [
        "## Problem 1.2 Compositions of  Transformations"
      ],
      "metadata": {
        "id": "qN-3tYUHTc7f"
      }
    },
    {
      "cell_type": "markdown",
      "source": [
        "### Please use the **transformation matrices constructed in Problem 1.1** to apply multiple transformations to the base shape then call the plot function to plot the resulting shapes.\n"
      ],
      "metadata": {
        "id": "Q6KApOwUvNvQ"
      }
    },
    {
      "cell_type": "code",
      "source": [
        "# Sequence 1\n",
        "# Please do the following two things in sequence\n",
        "# 1. scale the shape so that it has\n",
        "#    * twice the current width in the x direction\n",
        "#    * half the current height in the y direction\n",
        "# 2. rotate the resulting shape counterclockwise by 60 degrees\n",
        "print(\"Sequence 1 result: \")\n",
        "################Your codes start here#################\n",
        "scaling_matrix = np.array([[2, 0],\n",
        "                            [0, 0.5]])\n",
        "\n",
        "angle_degrees = 60\n",
        "angle_radians = np.radians(angle_degrees)\n",
        "\n",
        "rotation_matrix = np.array([[np.cos(angle_radians), -np.sin(angle_radians)],\n",
        "                            [np.sin(angle_radians), np.cos(angle_radians)]])\n",
        "\n",
        "pos_M_scaled = np.dot(scaling_matrix, pos_M)\n",
        "pos_M_seq1 = np.dot(rotation_matrix, pos_M_scaled)\n",
        "\n",
        "plot_resulting_shape(pos_M_seq1, pos_M)\n",
        "#######################################################"
      ],
      "metadata": {
        "id": "1CpEn2bAvBfU",
        "colab": {
          "base_uri": "https://localhost:8080/",
          "height": 423
        },
        "outputId": "5122cbc3-71d2-4f6a-a83e-19726efd0fe2"
      },
      "execution_count": 13,
      "outputs": [
        {
          "output_type": "stream",
          "name": "stdout",
          "text": [
            "Sequence 1 result: \n"
          ]
        },
        {
          "output_type": "display_data",
          "data": {
            "text/plain": [
              "<Figure size 640x480 with 1 Axes>"
            ],
            "image/png": "[encoded data removed]"
          },
          "metadata": {}
        }
      ]
    },
    {
      "cell_type": "code",
      "source": [
        "# Sequence 2\n",
        "# Please do the following two things in sequence\n",
        "# 1. rotate the shape counterclockwise by 60 degrees\n",
        "# 2. scale the resulting shape so that it has\n",
        "#    * twice the current width in the x direction\n",
        "#    * half the current height in the y direction\n",
        "print(\"Sequence 2 result: \")\n",
        "################Your codes start here#################\n",
        "angle_degrees = 60\n",
        "angle_radians = np.radians(angle_degrees)\n",
        "\n",
        "rotation_matrix = np.array([[np.cos(angle_radians), -np.sin(angle_radians)],\n",
        "                            [np.sin(angle_radians), np.cos(angle_radians)]])\n",
        "\n",
        "scaling_matrix = np.array([[2, 0],\n",
        "                            [0, 0.5]])\n",
        "\n",
        "pos_M_rotated = np.dot(rotation_matrix, pos_M)\n",
        "pos_M_seq2 = np.dot(scaling_matrix, pos_M_rotated)\n",
        "\n",
        "plot_resulting_shape(pos_M_seq2, pos_M)\n",
        "#######################################################"
      ],
      "metadata": {
        "id": "nfY2pPdYvEq9",
        "colab": {
          "base_uri": "https://localhost:8080/",
          "height": 235
        },
        "outputId": "9f581f09-1572-4893-b2ad-dae05ea765b4"
      },
      "execution_count": 17,
      "outputs": [
        {
          "output_type": "stream",
          "name": "stdout",
          "text": [
            "Sequence 2 result: \n"
          ]
        },
        {
          "output_type": "display_data",
          "data": {
            "text/plain": [
              "<Figure size 640x480 with 1 Axes>"
            ],
            "image/png": "[encoded data removed]"
          },
          "metadata": {}
        }
      ]
    },
    {
      "cell_type": "code",
      "source": [
        "# Sequence 3\n",
        "# Please do the following three things in sequence\n",
        "# 1. rotate the shape counterclockwise by 60 degrees\n",
        "# 2. shear the resulting shape along the y-direction with a shearing factor 6\n",
        "#      while keeping the shape along the x-direction\n",
        "# 3. scale the resulting shape so that it has\n",
        "#    * twice the current width in the x direction\n",
        "#    * half the current height in the y direction\n",
        "print(\"Sequence 3 result: \")\n",
        "################Your codes start here#################\n",
        "angle_degrees = 60\n",
        "angle_radians = np.radians(angle_degrees)\n",
        "rotation_matrix = np.array([[np.cos(angle_radians), -np.sin(angle_radians)],\n",
        "                            [np.sin(angle_radians), np.cos(angle_radians)]])\n",
        "\n",
        "shear_factor_y = 6\n",
        "shearing_matrix_y = np.array([[1, 0],\n",
        "                               [shear_factor_y, 1]])\n",
        "\n",
        "scaling_matrix = np.array([[2, 0],\n",
        "                            [0, 0.5]])\n",
        "\n",
        "pos_M_rotated = np.dot(rotation_matrix, pos_M)\n",
        "pos_M_sheared = np.dot(shearing_matrix_y, pos_M_rotated)\n",
        "pos_M_seq3 = np.dot(scaling_matrix, pos_M_sheared)\n",
        "\n",
        "plot_resulting_shape(pos_M_seq3, pos_M)\n",
        "#######################################################"
      ],
      "metadata": {
        "id": "tAuZJJ0LvGQA",
        "colab": {
          "base_uri": "https://localhost:8080/",
          "height": 423
        },
        "outputId": "603f0b5c-e111-44eb-c654-da1d14f977b1"
      },
      "execution_count": 18,
      "outputs": [
        {
          "output_type": "stream",
          "name": "stdout",
          "text": [
            "Sequence 3 result: \n"
          ]
        },
        {
          "output_type": "display_data",
          "data": {
            "text/plain": [
              "<Figure size 640x480 with 1 Axes>"
            ],
            "image/png": "[encoded data removed]"
          },
          "metadata": {}
        }
      ]
    },
    {
      "cell_type": "code",
      "source": [
        "# Sequence 4\n",
        "# Please do the following three things in sequence\n",
        "# 1. shear the shape along the y-direction with a shearing factor 6\n",
        "#     while keeping the shape along the x-direction;\n",
        "# 2. rotate the shape counterclockwise by 60 degrees;\n",
        "# 3.  scale the resulting shape so that it has\n",
        "#     * twice the current width in the x direction\n",
        "#     * half the current height in the y direction\n",
        "print(\"Sequence 4 result: \")\n",
        "################Your codes start here#################\n",
        "shear_factor_y = 6\n",
        "shearing_matrix_y = np.array([[1, 0],\n",
        "                              [shear_factor_y, 1]])\n",
        "\n",
        "angle_degrees = 60\n",
        "angle_radians = np.radians(angle_degrees)\n",
        "rotation_matrix = np.array([[np.cos(angle_radians), -np.sin(angle_radians)],\n",
        "                            [np.sin(angle_radians), np.cos(angle_radians)]])\n",
        "\n",
        "scaling_matrix = np.array([[2, 0],\n",
        "                           [0, 0.5]])\n",
        "\n",
        "pos_M_sheared = np.dot(shearing_matrix_y, pos_M)\n",
        "pos_M_rotated = np.dot(rotation_matrix, pos_M_sheared)\n",
        "pos_M_seq4 = np.dot(scaling_matrix, pos_M_rotated)\n",
        "\n",
        "plot_resulting_shape(pos_M_seq4, pos_M)\n",
        "#######################################################"
      ],
      "metadata": {
        "id": "cUh0moTuvIQV",
        "colab": {
          "base_uri": "https://localhost:8080/",
          "height": 156
        },
        "outputId": "d59a581a-7ff9-4e9c-f45f-6d8a63f9f2c2"
      },
      "execution_count": 20,
      "outputs": [
        {
          "output_type": "stream",
          "name": "stdout",
          "text": [
            "Sequence 4 result: \n"
          ]
        },
        {
          "output_type": "display_data",
          "data": {
            "text/plain": [
              "<Figure size 640x480 with 1 Axes>"
            ],
            "image/png": "[encoded data removed]"
          },
          "metadata": {}
        }
      ]
    },
    {
      "cell_type": "markdown",
      "source": [
        "## 1.3 Inverse transformation"
      ],
      "metadata": {
        "id": "kC-0ILBy5yao"
      }
    },
    {
      "cell_type": "markdown",
      "source": [
        "### Hint: undoing a transformation is performing the **inverse** transformation"
      ],
      "metadata": {
        "id": "D2ZDN7zrx2R3"
      }
    },
    {
      "cell_type": "code",
      "source": [
        "# Please undo the rotation in Problem 1.1, i.e.,\n",
        "# rotate the resulting shape pos_M_rotate there clockwise by 60 degrees\n",
        "print(\"Undo Rotation Result: \")\n",
        "################Your codes start here#################\n",
        "angle_degrees = -60\n",
        "angle_radians = np.radians(angle_degrees)\n",
        "\n",
        "inverse_rotation_matrix = np.array([[np.cos(angle_radians), -np.sin(angle_radians)],\n",
        "                                    [np.sin(angle_radians), np.cos(angle_radians)]])\n",
        "\n",
        "pos_M_rotate_back = np.dot(inverse_rotation_matrix, pos_M_rotate)\n",
        "\n",
        "plot_shape(pos_M_rotate_back)\n",
        "#######################################################"
      ],
      "metadata": {
        "id": "8X0zUFoDy_op",
        "colab": {
          "base_uri": "https://localhost:8080/",
          "height": 201
        },
        "outputId": "fc83682a-8fc4-446b-a01c-f73207eecd6c"
      },
      "execution_count": 22,
      "outputs": [
        {
          "output_type": "stream",
          "name": "stdout",
          "text": [
            "Undo Rotation Result: \n"
          ]
        },
        {
          "output_type": "display_data",
          "data": {
            "text/plain": [
              "<Figure size 640x480 with 1 Axes>"
            ],
            "image/png": "[encoded data removed]"
          },
          "metadata": {}
        }
      ]
    },
    {
      "cell_type": "code",
      "source": [
        "# Please undo the shearing 1 of Problem 1.1, i.e.,\n",
        "# tranform the pos_M_shear_h in Problem 1.1 back to pos_M (original shape)\n",
        "print(\"Undo Shearing 1 Result: \")\n",
        "################Your codes start here#################\n",
        "shear_factor_x = -3\n",
        "\n",
        "inverse_shearing_matrix_x = np.array([[1, shear_factor_x],\n",
        "                                      [0, 1]])\n",
        "\n",
        "pos_M_shear_h_back = np.dot(inverse_shearing_matrix_x, pos_M_shear_h)\n",
        "\n",
        "plot_shape(pos_M_shear_h_back)\n",
        "#######################################################"
      ],
      "metadata": {
        "id": "dHceLJPRzAlG",
        "colab": {
          "base_uri": "https://localhost:8080/",
          "height": 201
        },
        "outputId": "2c9eb809-dddb-4425-eb31-255124dfea87"
      },
      "execution_count": 24,
      "outputs": [
        {
          "output_type": "stream",
          "name": "stdout",
          "text": [
            "Undo Shearing 1 Result: \n"
          ]
        },
        {
          "output_type": "display_data",
          "data": {
            "text/plain": [
              "<Figure size 640x480 with 1 Axes>"
            ],
            "image/png": "[encoded data removed]"
          },
          "metadata": {}
        }
      ]
    },
    {
      "cell_type": "code",
      "source": [
        "# Please find the inverse of Sequence 1 in Problem 1.2\n",
        "# and apply it to pos_M_seq1\n",
        "print(\"Undo Sequence 1 Result: \")\n",
        "################Your codes start here#################\n",
        "\n",
        "angle_degrees_inverse = -60\n",
        "angle_radians_inverse = np.radians(angle_degrees_inverse)\n",
        "\n",
        "inverse_rotation_matrix = np.array([[np.cos(angle_radians_inverse), -np.sin(angle_radians_inverse)],\n",
        "                                    [np.sin(angle_radians_inverse), np.cos(angle_radians_inverse)]])\n",
        "\n",
        "inverse_scaling_matrix = np.array([[0.5, 0],\n",
        "                                   [0, 2]])\n",
        "\n",
        "pos_M_seq1_back = np.dot(inverse_scaling_matrix, np.dot(inverse_rotation_matrix, pos_M_seq1))\n",
        "\n",
        "plot_resulting_shape(pos_M_seq1_back, pos_M)\n",
        "#######################################################"
      ],
      "metadata": {
        "id": "chr99rGwzCCl",
        "colab": {
          "base_uri": "https://localhost:8080/",
          "height": 178
        },
        "outputId": "a0baae86-7207-4a53-d885-f9aa8010482e"
      },
      "execution_count": 27,
      "outputs": [
        {
          "output_type": "stream",
          "name": "stdout",
          "text": [
            "Undo Sequence 1 Result: \n"
          ]
        },
        {
          "output_type": "display_data",
          "data": {
            "text/plain": [
              "<Figure size 640x480 with 1 Axes>"
            ],
            "image/png": "[encoded data removed]"
          },
          "metadata": {}
        }
      ]
    },
    {
      "cell_type": "code",
      "source": [
        "# Please find the inverse of Sequence 2 in Problem 1.2\n",
        "# and apply it to pos_M_seq2\n",
        "print(\"Undo Sequence 2 Result: \")\n",
        "################Your codes start here#################\n",
        "inverse_scaling_matrix = np.array([[0.5, 0],\n",
        "                                   [0, 2]])\n",
        "\n",
        "angle_degrees_inverse = -60\n",
        "angle_radians_inverse = np.radians(angle_degrees_inverse)\n",
        "\n",
        "inverse_rotation_matrix = np.array([[np.cos(angle_radians_inverse), -np.sin(angle_radians_inverse)],\n",
        "                                    [np.sin(angle_radians_inverse), np.cos(angle_radians_inverse)]])\n",
        "\n",
        "pos_M_seq2_back = np.dot(inverse_rotation_matrix, np.dot(inverse_scaling_matrix, pos_M_seq2))\n",
        "\n",
        "plot_shape(pos_M_seq2_back)\n",
        "#######################################################\n"
      ],
      "metadata": {
        "id": "XfX7Gd5o57Pq",
        "colab": {
          "base_uri": "https://localhost:8080/",
          "height": 201
        },
        "outputId": "8f8b6cd8-15e5-4f37-a899-9d47becff274"
      },
      "execution_count": 28,
      "outputs": [
        {
          "output_type": "stream",
          "name": "stdout",
          "text": [
            "Undo Sequence 2 Result: \n"
          ]
        },
        {
          "output_type": "display_data",
          "data": {
            "text/plain": [
              "<Figure size 640x480 with 1 Axes>"
            ],
            "image/png": "[encoded data removed]"
          },
          "metadata": {}
        }
      ]
    }
  ]
}